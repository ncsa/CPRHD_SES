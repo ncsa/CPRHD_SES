{
 "cells": [
  {
   "cell_type": "code",
   "execution_count": 1,
   "metadata": {},
   "outputs": [],
   "source": [
    "import numpy as np\n",
    "import os\n",
    "from shutil import copy\n",
    "from sklearn.model_selection import train_test_split\n",
    "\n",
    "def get_image_list(path):\n",
    "    filenames = os.listdir(path)\n",
    "    # store the names for images and labels\n",
    "    img = []\n",
    "    lbl = []\n",
    "    for file in filenames: \n",
    "        if file.endswith('.jpg'):\n",
    "            img.append(file)\n",
    "        if file.endswith('.txt'):\n",
    "            lbl.append(file)\n",
    "    assert len(img) == len(lbl)\n",
    "    img = np.asarray(img)\n",
    "    lbl = np.asarray(lbl)\n",
    "    return img, lbl"
   ]
  },
  {
   "cell_type": "code",
   "execution_count": 2,
   "metadata": {},
   "outputs": [],
   "source": [
    "PATH = '/home/taozang2/darknet/dataset1026/'"
   ]
  },
  {
   "cell_type": "code",
   "execution_count": 3,
   "metadata": {},
   "outputs": [
    {
     "name": "stdout",
     "output_type": "stream",
     "text": [
      "(100,)\n",
      "(200,)\n",
      "(300,)\n",
      "(400,)\n",
      "(500,)\n"
     ]
    }
   ],
   "source": [
    "# test get_image_list\n",
    "images, annotations = get_image_list(PATH)\n",
    "N = images.shape\n",
    "\n",
    "size = np.arange(100, 600, 100)\n",
    "image_train = []\n",
    "for i in size:\n",
    "    split = np.random.choice(images, size=i, replace=False)\n",
    "    image_train.append(split)\n",
    "    print(split.shape)\n",
    "    "
   ]
  },
  {
   "cell_type": "code",
   "execution_count": 4,
   "metadata": {},
   "outputs": [
    {
     "name": "stdout",
     "output_type": "stream",
     "text": [
      "(100,)\n",
      "(200,)\n",
      "(300,)\n",
      "(400,)\n",
      "(500,)\n"
     ]
    }
   ],
   "source": [
    "for i in image_train:\n",
    "    print(i.shape)"
   ]
  },
  {
   "cell_type": "code",
   "execution_count": 5,
   "metadata": {},
   "outputs": [],
   "source": [
    "for i in size:\n",
    "    os.makedirs('/home/taozang2/darknet/scalability_test/%d'%(i))\n",
    "    os.makedirs('/home/taozang2/darknet/scalability_test/%d/obj'%(i))\n",
    "    os.makedirs('/home/taozang2/darknet/scalability_test/%d/backup'%(i))\n",
    "# def check_image_dataset(path):\n",
    "#     img, lbl = get_image_list(path)\n",
    "#     assert img.shape == lbl.shape\n",
    "#     print('This dataset contains %d images'%img.shape[0])\n",
    "# for i in size:\n",
    "#     os.makedirs('/home/taozang2/darknet/scalability_test/%d/backup'%(i))"
   ]
  },
  {
   "cell_type": "code",
   "execution_count": null,
   "metadata": {},
   "outputs": [
    {
     "name": "stdout",
     "output_type": "stream",
     "text": [
      "(100,)\n",
      "This dataset contains 100 images\n",
      "(200,)\n",
      "This dataset contains 200 images\n",
      "(300,)\n",
      "This dataset contains 300 images\n",
      "(400,)\n"
     ]
    }
   ],
   "source": [
    "for one_train_set in image_train:\n",
    "    idx = one_train_set.shape[0]\n",
    "    save_path = '/home/taozang2/darknet/scalability_test/%d/obj'%(idx)\n",
    "    print(one_train_set.shape)\n",
    "    for img in one_train_set:\n",
    "        label = img.split('.jpg')[0] + '.txt'\n",
    "        copy(PATH + img, save_path)\n",
    "        copy(PATH + label, save_path)\n",
    "    a, b = get_image_list(save_path)\n",
    "    print('This dataset contains %d images'%a.shape)"
   ]
  },
  {
   "cell_type": "code",
   "execution_count": null,
   "metadata": {},
   "outputs": [],
   "source": []
  }
 ],
 "metadata": {
  "kernelspec": {
   "display_name": "Python 3",
   "language": "python",
   "name": "python3"
  },
  "language_info": {
   "codemirror_mode": {
    "name": "ipython",
    "version": 3
   },
   "file_extension": ".py",
   "mimetype": "text/x-python",
   "name": "python",
   "nbconvert_exporter": "python",
   "pygments_lexer": "ipython3",
   "version": "3.7.6"
  }
 },
 "nbformat": 4,
 "nbformat_minor": 4
}
