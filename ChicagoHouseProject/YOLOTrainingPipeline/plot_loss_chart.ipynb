{
 "cells": [
  {
   "cell_type": "code",
   "execution_count": 27,
   "metadata": {
    "colab": {
     "base_uri": "https://localhost:8080/",
     "height": 246
    },
    "id": "_RBZ9T1grl4a",
    "outputId": "8e0db2e9-9069-4ecd-c6a6-465bec06cae2"
   },
   "outputs": [
    {
     "name": "stdout",
     "output_type": "stream",
     "text": [
      "done\n"
     ]
    }
   ],
   "source": [
    "# Using readline()\n",
    "path = 'yolo_best_hal_output.txt' # path to the YOLO log output\n",
    "total_lines = 0\n",
    "for line in open(path).readlines(  ): total_lines += 1\n",
    "total_lines\n",
    "\n",
    "file1 = open(path, 'r') \n",
    "count = 0\n",
    "avg_loss = [] \n",
    "tmp = 0\n",
    "while tmp < total_lines:\n",
    "    tmp += 1\n",
    "    # Get next line from file \n",
    "    line = file1.readline().split()\n",
    "    f1 = False\n",
    "    f2 = False\n",
    "    index = 0\n",
    "    for i, j  in enumerate(line):\n",
    "        if j == 'avg':\n",
    "            f1 = True\n",
    "            index = i\n",
    "            if line[index + 1] == 'loss,':\n",
    "                f2 = True\n",
    "    if f1 & f2:\n",
    "        avg_loss.append(line[index - 1])\n",
    "file1.close() \n",
    "print('done')"
   ]
  },
  {
   "cell_type": "code",
   "execution_count": 26,
   "metadata": {},
   "outputs": [
    {
     "name": "stdout",
     "output_type": "stream",
     "text": [
      " Volume in drive C is OS\n",
      " Volume Serial Number is 5893-609C\n",
      "\n",
      " Directory of C:\\Users\\taoza\\OneDrive\\Desktop\\SPIN Wrap Up\\LogOutput\n",
      "\n",
      "12/14/2020  11:47 PM    <DIR>          .\n",
      "12/14/2020  11:47 PM    <DIR>          ..\n",
      "12/14/2020  11:29 PM    <DIR>          .ipynb_checkpoints\n",
      "12/14/2020  11:33 PM            12,999 Loss Graph - 100.png\n",
      "12/14/2020  11:38 PM            13,555 Loss Graph - 200.png\n",
      "12/14/2020  11:44 PM            13,354 Loss Graph - 300.png\n",
      "12/14/2020  11:46 PM            12,717 Loss Graph - 400.png\n",
      "12/14/2020  11:45 PM            12,144 Loss Graph - 500.png\n",
      "12/14/2020  11:47 PM            24,488 plot.ipynb\n",
      "12/03/2020  10:56 PM       159,234,466 yolo_best_hal_output.txt\n",
      "12/14/2020  10:29 PM        84,167,995 yolo_scale_100.5543.hal01.out.txt\n",
      "12/10/2020  01:20 PM        84,240,788 yolo_scale_200.5544.hal01.out\n",
      "12/10/2020  01:20 PM        84,302,003 yolo_scale_300.5545.hal03.out\n",
      "12/10/2020  01:20 PM        84,314,850 yolo_scale_400.5546.hal05.out\n",
      "12/10/2020  01:20 PM        84,338,402 yolo_scale_500.5547.hal06.out\n",
      "              12 File(s)    580,687,761 bytes\n",
      "               3 Dir(s)  340,497,211,392 bytes free\n"
     ]
    }
   ],
   "source": [
    "%ls"
   ]
  },
  {
   "cell_type": "code",
   "execution_count": 28,
   "metadata": {
    "colab": {
     "base_uri": "https://localhost:8080/",
     "height": 35
    },
    "id": "wizCqhxTtIGe",
    "outputId": "f44076aa-8b92-4be9-a5a3-a1c0d9a05a71"
   },
   "outputs": [
    {
     "data": {
      "text/plain": [
       "6000"
      ]
     },
     "execution_count": 28,
     "metadata": {},
     "output_type": "execute_result"
    }
   ],
   "source": [
    "len(avg_loss)"
   ]
  },
  {
   "cell_type": "code",
   "execution_count": 31,
   "metadata": {
    "colab": {
     "base_uri": "https://localhost:8080/",
     "height": 265
    },
    "id": "cby7vOEv1rlZ",
    "outputId": "7068b2bb-ff9a-4ebe-ce12-cdba2d342d50",
    "scrolled": true
   },
   "outputs": [
    {
     "data": {
      "image/png": "[encoded data removed]",
      "text/plain": [
       "<Figure size 432x288 with 1 Axes>"
      ]
     },
     "metadata": {
      "needs_background": "light"
     },
     "output_type": "display_data"
    }
   ],
   "source": [
    "import numpy as np\n",
    "import matplotlib.pyplot as plt\n",
    "\n",
    "N = len(avg_loss)\n",
    "# print(N)\n",
    "avg_loss = np.array(avg_loss, dtype=float)\n",
    "x = np.arange(1000)\n",
    "# print(avg_loss)\n",
    "plt.plot(x, avg_loss[0:1000])\n",
    "plt.xlabel('number of epoches')\n",
    "plt.ylabel('Avg Loss')\n",
    "plt.title('Loss Graph, 1000 epochs')\n",
    "plt.show()"
   ]
  },
  {
   "cell_type": "code",
   "execution_count": 55,
   "metadata": {
    "id": "XyA5Jsf5uZoD"
   },
   "outputs": [],
   "source": [
    "l1 = ['1:', '1852.351074,', '1852.351074', 'avg', 'loss,', '0.000000', 'rate,', '2.878975', 'seconds,', '64', 'images,', '-1.000000', 'hours', 'left']"
   ]
  },
  {
   "cell_type": "code",
   "execution_count": 38,
   "metadata": {
    "colab": {
     "base_uri": "https://localhost:8080/"
    },
    "id": "mlRxkyFIvK8_",
    "outputId": "a086b726-1555-4314-b367-cbc9285be1c4"
   },
   "outputs": [],
   "source": [
    "# plot training time vs. dataset size\n",
    "size = np.arange(100, 600, 100)"
   ]
  },
  {
   "cell_type": "code",
   "execution_count": 41,
   "metadata": {},
   "outputs": [
    {
     "data": {
      "image/png": "[encoded data removed]",
      "text/plain": [
       "<Figure size 432x288 with 1 Axes>"
      ]
     },
     "metadata": {
      "needs_background": "light"
     },
     "output_type": "display_data"
    }
   ],
   "source": [
    "size = [100, 200, 300, 400, 500, 550]\n",
    "time = [4.797568, 4.985811, 4.707785, 4.852474, 4.990821, 4.800736]\n",
    "plt.(size, time)\n",
    "plt.xlabel('Number of Images in training set')\n",
    "plt.ylabel('Training Time, 1 GPU')\n",
    "plt.title('Training time vs. Training Size')\n",
    "plt.show()"
   ]
  },
  {
   "cell_type": "code",
   "execution_count": 1,
   "metadata": {},
   "outputs": [],
   "source": [
    "import numpy as np\n",
    "time = [4.797568, 4.985811, 4.707785, 4.852474, 4.990821, 4.800736]\n",
    "time = np.array(time)"
   ]
  },
  {
   "cell_type": "code",
   "execution_count": 4,
   "metadata": {},
   "outputs": [
    {
     "data": {
      "text/plain": [
       "4.8558658333333335"
      ]
     },
     "execution_count": 4,
     "metadata": {},
     "output_type": "execute_result"
    }
   ],
   "source": [
    "np.mean(time)"
   ]
  },
  {
   "cell_type": "code",
   "execution_count": null,
   "metadata": {},
   "outputs": [],
   "source": []
  }
 ],
 "metadata": {
  "colab": {
   "collapsed_sections": [],
   "name": "Untitled.ipynb",
   "provenance": []
  },
  "kernelspec": {
   "display_name": "Python 3",
   "language": "python",
   "name": "python3"
  },
  "language_info": {
   "codemirror_mode": {
    "name": "ipython",
    "version": 3
   },
   "file_extension": ".py",
   "mimetype": "text/x-python",
   "name": "python",
   "nbconvert_exporter": "python",
   "pygments_lexer": "ipython3",
   "version": "3.8.5"
  }
 },
 "nbformat": 4,
 "nbformat_minor": 1
}
