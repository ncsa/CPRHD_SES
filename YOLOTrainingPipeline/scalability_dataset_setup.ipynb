{
 "cells": [
  {
   "cell_type": "code",
   "execution_count": 10,
   "metadata": {},
   "outputs": [
    {
     "data": {
      "text/plain": [
       "['/home/taozang2/darknet/scalability_test/100/',\n",
       " '/home/taozang2/darknet/scalability_test/200/',\n",
       " '/home/taozang2/darknet/scalability_test/300/',\n",
       " '/home/taozang2/darknet/scalability_test/400/',\n",
       " '/home/taozang2/darknet/scalability_test/500/']"
      ]
     },
     "execution_count": 10,
     "metadata": {},
     "output_type": "execute_result"
    }
   ],
   "source": [
    "import os\n",
    "import numpy as np\n",
    "size = np.arange(100, 600, 100).astype('int')\n",
    "PATH = []\n",
    "for i in size:\n",
    "    PATH.append('/home/taozang2/darknet/scalability_test/%d/'%i)\n",
    "PATH"
   ]
  },
  {
   "cell_type": "code",
   "execution_count": 17,
   "metadata": {},
   "outputs": [],
   "source": [
    "def setup(path):\n",
    "    image_files = []\n",
    "    os.chdir(path + '%s/'%'obj')\n",
    "    for filename in os.listdir(os.getcwd()):\n",
    "        if filename.endswith(\".jpg\"):\n",
    "            image_files.append(path + '%s/%s'%('obj', filename))\n",
    "    os.chdir(path)\n",
    "    with open(\"train.txt\", \"w\") as a:\n",
    "        for image in image_files:\n",
    "            a.write(image)\n",
    "            a.write(\"\\n\")\n",
    "        a.close()\n",
    "\n",
    "    with open('obj.names', 'w') as b:\n",
    "        b.write('HouseBefore1960s')\n",
    "        b.write(\"\\n\")\n",
    "        b.write('HouseAfter1960s')\n",
    "        b.close()\n",
    "\n",
    "    with open('obj.data', 'w') as c:\n",
    "        c.write('classes = 2')\n",
    "        c.write(\"\\n\")\n",
    "        c.write('train = %strain.txt'%path)\n",
    "        c.write(\"\\n\")\n",
    "        c.write('valid = %strain.txt'%path)\n",
    "        c.write(\"\\n\")\n",
    "        c.write('names = %sobj.names'%path)\n",
    "        c.write(\"\\n\")\n",
    "        c.write('backup = %sbackup'%path)\n",
    "        c.write(\"\\n\")\n",
    "        c.close()"
   ]
  },
  {
   "cell_type": "code",
   "execution_count": 18,
   "metadata": {},
   "outputs": [],
   "source": [
    "path = '/home/taozang2/darknet/scalability_test/100/'"
   ]
  },
  {
   "cell_type": "code",
   "execution_count": 20,
   "metadata": {},
   "outputs": [],
   "source": [
    "for path in PATH:\n",
    "    setup(path)"
   ]
  }
 ],
 "metadata": {
  "kernelspec": {
   "display_name": "Python 3",
   "language": "python",
   "name": "python3"
  },
  "language_info": {
   "codemirror_mode": {
    "name": "ipython",
    "version": 3
   },
   "file_extension": ".py",
   "mimetype": "text/x-python",
   "name": "python",
   "nbconvert_exporter": "python",
   "pygments_lexer": "ipython3",
   "version": "3.7.6"
  }
 },
 "nbformat": 4,
 "nbformat_minor": 4
}
